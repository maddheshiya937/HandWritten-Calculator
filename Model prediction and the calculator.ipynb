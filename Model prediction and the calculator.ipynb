{
 "cells": [
  {
   "cell_type": "code",
   "execution_count": 8,
   "metadata": {
    "executionInfo": {
     "elapsed": 3645,
     "status": "ok",
     "timestamp": 1669790731424,
     "user": {
      "displayName": "Hrishikant Mehta",
      "userId": "06079458017930241490"
     },
     "user_tz": -330
    },
    "id": "_FLar4jtVBdR"
   },
   "outputs": [],
   "source": [
    "import pandas as pd\n",
    "import numpy as np\n",
    "import os\n",
    "import matplotlib.pyplot as plt\n",
    "import cv2\n",
    "from os import listdir\n",
    "from os.path import join, isfile\n",
    "from PIL import Image\n",
    "import keras"
   ]
  },
  {
   "cell_type": "code",
   "execution_count": 10,
   "metadata": {
    "executionInfo": {
     "elapsed": 623,
     "status": "ok",
     "timestamp": 1669790733856,
     "user": {
      "displayName": "Hrishikant Mehta",
      "userId": "06079458017930241490"
     },
     "user_tz": -330
    },
    "id": "s76Pp5aKWi5M"
   },
   "outputs": [],
   "source": [
    "model = keras.models.load_model(\"model.h5\")"
   ]
  },
  {
   "cell_type": "code",
   "execution_count": 19,
   "metadata": {
    "colab": {
     "base_uri": "https://localhost:8080/"
    },
    "executionInfo": {
     "elapsed": 977,
     "status": "ok",
     "timestamp": 1669790739799,
     "user": {
      "displayName": "Hrishikant Mehta",
      "userId": "06079458017930241490"
     },
     "user_tz": -330
    },
    "id": "91p4PX1rdz8g",
    "outputId": "2f600c2a-af4a-4c84-d24e-3f6088972a33"
   },
   "outputs": [
    {
     "name": "stdout",
     "output_type": "stream",
     "text": [
      "1/1 [==============================] - 0s 53ms/step\n",
      "1/1 [==============================] - 0s 54ms/step\n",
      "1/1 [==============================] - 0s 55ms/step\n",
      "1/1 [==============================] - 0s 55ms/step\n",
      "Predicted expression is : 111 * \n"
     ]
    },
    {
     "ename": "SyntaxError",
     "evalue": "unexpected EOF while parsing (<string>, line 1)",
     "output_type": "error",
     "traceback": [
      "Traceback \u001b[1;36m(most recent call last)\u001b[0m:\n",
      "  File \u001b[0;32m\"C:\\Users\\91788\\anaconda3\\lib\\site-packages\\IPython\\core\\interactiveshell.py\"\u001b[0m, line \u001b[0;32m3437\u001b[0m, in \u001b[0;35mrun_code\u001b[0m\n    exec(code_obj, self.user_global_ns, self.user_ns)\n",
      "\u001b[1;36m  File \u001b[1;32m\"<ipython-input-19-d65a6e44ecee>\"\u001b[1;36m, line \u001b[1;32m94\u001b[1;36m, in \u001b[1;35m<module>\u001b[1;36m\u001b[0m\n\u001b[1;33m    print(expression+' = '+str(eval(expression)))\u001b[0m\n",
      "\u001b[1;36m  File \u001b[1;32m\"<string>\"\u001b[1;36m, line \u001b[1;32m1\u001b[0m\n\u001b[1;33m    111 *\u001b[0m\n\u001b[1;37m         ^\u001b[0m\n\u001b[1;31mSyntaxError\u001b[0m\u001b[1;31m:\u001b[0m unexpected EOF while parsing\n"
     ]
    }
   ],
   "source": [
    "# creating the calculator\n",
    "\n",
    "path='expression/sixth.png'\n",
    "\n",
    "img=cv2.imread(path,cv2.IMREAD_GRAYSCALE)\n",
    "\n",
    "img=~img\n",
    "_,thrsh=cv2.threshold(img,127,255,cv2.THRESH_BINARY)\n",
    "cntr,_=cv2.findContours(thrsh,cv2.RETR_EXTERNAL,cv2.CHAIN_APPROX_NONE)\n",
    "\n",
    "digits=[]\n",
    "\n",
    "for i in range(len(cntr)):\n",
    "  rect=cv2.boundingRect(cntr[i])\n",
    "\n",
    "  digits.append([rect[0],rect[1],rect[0]+rect[2],rect[1]+rect[3]])\n",
    "\n",
    "digits=sorted(digits)\n",
    "\n",
    "# handle the division operator\n",
    "new_digits=[]\n",
    "\n",
    "for i in range(len(digits)):\n",
    "  if i==0 or new_digits[-1][2]<digits[i][0]:\n",
    "    new_digits.append(digits[i])\n",
    "  else:\n",
    "    new_digits[-1][0]=min(new_digits[-1][0],digits[i][0])\n",
    "    new_digits[-1][1]=min(new_digits[-1][1],digits[i][1])\n",
    "    new_digits[-1][2]=max(new_digits[-1][2],digits[i][2])\n",
    "    new_digits[-1][3]=max(new_digits[-1][3],digits[i][3])\n",
    "\n",
    "expression=''\n",
    "\n",
    "for i in range(len(new_digits)):\n",
    "  img_crop=img[new_digits[i][1]:new_digits[i][3],new_digits[i][0]:new_digits[i][2]]\n",
    "\n",
    "  # plt.imshow(img_crop)\n",
    "\n",
    "  # width>height\n",
    "  if(img_crop.shape[1]>img_crop.shape[0]):\n",
    "    scale=int(40*100/img_crop.shape[1])\n",
    "  else:\n",
    "    scale=int(40*100/img_crop.shape[0])\n",
    "\n",
    "  width=int(img_crop.shape[1]*scale/100)\n",
    "  height=int(img_crop.shape[0]*scale/100)\n",
    "\n",
    "  img_resize=cv2.resize(img_crop,(width,height))\n",
    "\n",
    "  # padding\n",
    "  m=img_resize.shape[0]\n",
    "  n=img_resize.shape[1]\n",
    "\n",
    "  left=(40-n)//2\n",
    "  right=40-n-left\n",
    "  up=(40-m)//2\n",
    "  down=40-m-up\n",
    "\n",
    "  # padding up\n",
    "  for _ in range(up):\n",
    "    img_resize=np.insert(img_resize,0,np.array([0 for i in range(n)]),axis=0)\n",
    "\n",
    "  # padding down\n",
    "  for _ in range(down):\n",
    "    img_resize=np.insert(img_resize,img_resize.shape[0],np.array([0 for i in range(n)]),axis=0)\n",
    "\n",
    "  # padding left\n",
    "  for _ in range(left):\n",
    "    img_resize=np.insert(img_resize,0,np.array([0 for i in range(40)]),axis=1)\n",
    "\n",
    "  # padding right\n",
    "  for _ in range(right):\n",
    "    img_resize=np.insert(img_resize,img_resize.shape[1],np.array([0 for i in range(40)]),axis=1)\n",
    "\n",
    "  # img_resize=img_resize/255.0\n",
    "\n",
    "  pred=model.predict([img_resize.reshape(-1, 40, 40, 1)])\n",
    "  pred=np.argmax(pred, axis = 1)\n",
    "\n",
    "  if pred[0]<10:\n",
    "    expression+=str(pred[0])\n",
    "  else:\n",
    "    if pred[0]==10:\n",
    "      expression+=str(' + ')\n",
    "    elif pred[0]==11:\n",
    "      expression+=str(' - ')\n",
    "    elif pred[0]==12:\n",
    "      expression+=str(' * ')\n",
    "    else:\n",
    "      expression+=str(' / ')\n",
    "\n",
    "print('Predicted expression is : '+expression)\n",
    "\n",
    "print(expression+' = '+str(eval(expression)))"
   ]
  },
  {
   "cell_type": "code",
   "execution_count": null,
   "metadata": {},
   "outputs": [],
   "source": []
  }
 ],
 "metadata": {
  "colab": {
   "authorship_tag": "ABX9TyPnOHvWTATplIoH/GoLoFn6",
   "provenance": []
  },
  "kernelspec": {
   "display_name": "Python 3",
   "language": "python",
   "name": "python3"
  },
  "language_info": {
   "codemirror_mode": {
    "name": "ipython",
    "version": 3
   },
   "file_extension": ".py",
   "mimetype": "text/x-python",
   "name": "python",
   "nbconvert_exporter": "python",
   "pygments_lexer": "ipython3",
   "version": "3.8.8"
  }
 },
 "nbformat": 4,
 "nbformat_minor": 1
}
